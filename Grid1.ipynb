{
 "cells": [
  {
   "cell_type": "code",
   "execution_count": 9,
   "metadata": {},
   "outputs": [],
   "source": [
    "import numpy as np\n",
    "import torch\n",
    "from tqdm import tqdm\n",
    "from Gridworld import * \n",
    "import matplotlib.pyplot as plt"
   ]
  },
  {
   "cell_type": "code",
   "execution_count": 599,
   "metadata": {},
   "outputs": [
    {
     "data": {
      "text/plain": [
       "array([['+', '-', ' ', 'P'],\n",
       "       [' ', 'W', ' ', ' '],\n",
       "       [' ', ' ', ' ', ' '],\n",
       "       [' ', ' ', ' ', ' ']], dtype='<U2')"
      ]
     },
     "execution_count": 599,
     "metadata": {},
     "output_type": "execute_result"
    }
   ],
   "source": [
    "game = Gridworld(size = 4,mode = 'static')\n",
    "game.display()"
   ]
  },
  {
   "cell_type": "code",
   "execution_count": 600,
   "metadata": {},
   "outputs": [
    {
     "name": "stdout",
     "output_type": "stream",
     "text": [
      "0\n",
      "-1\n",
      "1\n"
     ]
    }
   ],
   "source": [
    "game.makeMove('l')\n",
    "print(game.reward())\n",
    "game.makeMove('l')   # reach -\n",
    "print(game.reward())\n",
    "game.makeMove('l')   # reach +\n",
    "print(game.reward())"
   ]
  },
  {
   "cell_type": "code",
   "execution_count": 601,
   "metadata": {},
   "outputs": [],
   "source": [
    "model = torch.nn.Sequential(\n",
    "    torch.nn.Linear(64,150),\n",
    "    torch.nn.ReLU(),\n",
    "    torch.nn.Linear(150,100),\n",
    "    torch.nn.ReLU(),\n",
    "    torch.nn.Linear(100,4)\n",
    ")\n",
    "\n",
    "loss_f = torch.nn.MSELoss()\n",
    "optimizer = torch.optim.Adam(model.parameters(), lr=1e-3)"
   ]
  },
  {
   "cell_type": "code",
   "execution_count": 602,
   "metadata": {},
   "outputs": [
    {
     "name": "stderr",
     "output_type": "stream",
     "text": [
      "  0%|          | 0/1000 [00:00<?, ?it/s]C:\\Users\\forever豪3\\AppData\\Local\\Programs\\Python\\Python38\\lib\\site-packages\\torch\\nn\\modules\\loss.py:528: UserWarning: Using a target size (torch.Size([])) that is different to the input size (torch.Size([1])). This will likely lead to incorrect results due to broadcasting. Please ensure they have the same size.\n",
      "  return F.mse_loss(input, target, reduction=self.reduction)\n",
      "100%|██████████| 1000/1000 [00:31<00:00, 31.35it/s]\n"
     ]
    }
   ],
   "source": [
    "from tqdm import tqdm \n",
    "epsilon = 1.0\n",
    "discount = 0.9\n",
    "epochs = 1000\n",
    "losses = []\n",
    "\n",
    "for _ in tqdm(range(epochs)):\n",
    "    game = Gridworld(size=4, mode='static')\n",
    "    state = game.board.render_np().flatten().astype('float')\n",
    "    state += np.random.rand(64) / 10. # noise\n",
    "    state = torch.Tensor(state)\n",
    "    gameover = 0\n",
    "    while not gameover:\n",
    "        qval = model(state)\n",
    "        qval_ = qval.detach().numpy()\n",
    "        if np.random.random() < epsilon:\n",
    "            action = np.random.randint(0,4)\n",
    "        else:\n",
    "            action = np.argmax(qval_)\n",
    "\n",
    "        game.makeMove('udlr'[action])\n",
    "        reward = game.reward()\n",
    "\n",
    "        new_state = game.board.render_np().flatten().astype('float')\n",
    "        new_state += np.random.rand(64) / 10. \n",
    "        new_state = torch.Tensor(new_state)\n",
    "\n",
    "        # use the prediction of the new_state to obtain the value of the new state\n",
    "        # but do not change the grad of the model\n",
    "        with torch.no_grad():\n",
    "            new_value = torch.max( model(new_state) )\n",
    "        \n",
    "        if reward != 0: \n",
    "            gameover = 1\n",
    "            reward = float(reward)\n",
    "        else:\n",
    "            reward = -0.01 + discount * new_value \n",
    "\n",
    "        reward = torch.Tensor([reward]).detach()\n",
    "        predict = qval.squeeze()[action] \n",
    "        loss = loss_f(reward,predict)\n",
    "        losses.append(loss.item())\n",
    "\n",
    "        optimizer.zero_grad()\n",
    "        loss.backward()\n",
    "        optimizer.step()\n",
    "\n",
    "        state = new_state\n",
    "    \n",
    "    if epsilon > 0.1:\n",
    "        epsilon -= 1. / epochs"
   ]
  },
  {
   "cell_type": "code",
   "execution_count": 603,
   "metadata": {},
   "outputs": [
    {
     "data": {
      "text/plain": [
       "[<matplotlib.lines.Line2D at 0x2292de72790>]"
      ]
     },
     "execution_count": 603,
     "metadata": {},
     "output_type": "execute_result"
    },
    {
     "data": {
      "image/png": "[encoded data removed]",
      "text/plain": [
       "<Figure size 432x288 with 1 Axes>"
      ]
     },
     "metadata": {
      "needs_background": "light"
     },
     "output_type": "display_data"
    }
   ],
   "source": [
    "plt.plot(losses)"
   ]
  },
  {
   "cell_type": "code",
   "execution_count": 606,
   "metadata": {},
   "outputs": [
    {
     "name": "stdout",
     "output_type": "stream",
     "text": [
      "[['+' '-' ' ' 'P']\n",
      " [' ' 'W' ' ' ' ']\n",
      " [' ' ' ' ' ' ' ']\n",
      " [' ' ' ' ' ' ' ']]\n",
      "d d l l l u u "
     ]
    }
   ],
   "source": [
    "game = Gridworld(size=4, mode='static')\n",
    "gameover = 0\n",
    "print(game.display())\n",
    "while not gameover:\n",
    "    state = game.board.render_np().flatten().astype('float')\n",
    "    state = torch.Tensor(state)\n",
    "    qval = model(state).detach().numpy()\n",
    "    action = np.argmax(qval)\n",
    "    game.makeMove('udlr'[action])\n",
    "    print('udlr'[action],end = ' ')\n",
    "    if game.reward() != 0:\n",
    "        gameover = 1"
   ]
  }
 ],
 "metadata": {
  "interpreter": {
   "hash": "1403262caf5c96c562d23c2ec1d0e9409dfef636549d4d9dd4887bed656bec38"
  },
  "kernelspec": {
   "display_name": "Python 3.8.4 64-bit (system)",
   "language": "python",
   "name": "python3"
  },
  "language_info": {
   "codemirror_mode": {
    "name": "ipython",
    "version": 3
   },
   "file_extension": ".py",
   "mimetype": "text/x-python",
   "name": "python",
   "nbconvert_exporter": "python",
   "pygments_lexer": "ipython3",
   "version": "3.8.4"
  },
  "orig_nbformat": 4
 },
 "nbformat": 4,
 "nbformat_minor": 2
}
