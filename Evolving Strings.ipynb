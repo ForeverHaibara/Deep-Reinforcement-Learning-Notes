{
 "cells": [
  {
   "cell_type": "code",
   "execution_count": 2,
   "metadata": {},
   "outputs": [],
   "source": [
    "import numpy as np\n",
    "import matplotlib.pyplot as plt"
   ]
  },
  {
   "cell_type": "code",
   "execution_count": 12,
   "metadata": {},
   "outputs": [
    {
     "name": "stdout",
     "output_type": "stream",
     "text": [
      "abcdefghijklmnopqrstuvwxyzABCDEFGHIJKLMNOPQRSTUVWXYZ,.! \n"
     ]
    }
   ],
   "source": [
    "alphabets = ''.join(chr(_) for _ in range(97,123))\n",
    "alphabets += alphabets.upper() + ',.! '\n",
    "print(alphabets)\n",
    "target = 'Hello World!'"
   ]
  },
  {
   "cell_type": "code",
   "execution_count": 15,
   "metadata": {},
   "outputs": [
    {
     "name": "stdout",
     "output_type": "stream",
     "text": [
      "0.6956521739130435\n",
      "0.17391304347826086\n"
     ]
    }
   ],
   "source": [
    "from difflib import SequenceMatcher   # standard package\n",
    "def similar(a,b):\n",
    "    return SequenceMatcher(None, a , b).ratio()\n",
    "print(similar('Hello world','Hey, worlds!'))\n",
    "print(similar('Hello world','how are you?'))"
   ]
  },
  {
   "cell_type": "code",
   "execution_count": 62,
   "metadata": {},
   "outputs": [
    {
     "name": "stdout",
     "output_type": "stream",
     "text": [
      "['nQO bEUDMzED', 'RZQAdFqaNDyC', 'GLunx!EExHPD', 'GsTVnVrEFJMD', 'SD,rJw,tdxjN']\n"
     ]
    }
   ],
   "source": [
    "n = 2000\n",
    "k = len(target)\n",
    "population = []\n",
    "for _ in range(n):\n",
    "    individual = ''.join([alphabets[i] for i in np.random.randint(0, len(alphabets), size=k)])\n",
    "    population.append(individual)\n",
    "print(population[:5])"
   ]
  },
  {
   "cell_type": "code",
   "execution_count": 39,
   "metadata": {},
   "outputs": [],
   "source": [
    "def recombine(a,b):\n",
    "    cut = np.random.randint(len(a))\n",
    "    return a[:cut] + b[cut:]  ,  b[:cut] + a[cut:]\n",
    "\n",
    "def mutate(a, rate=0.01):\n",
    "    a = list(a)\n",
    "    for i in range(len(a)):\n",
    "        if np.random.random() < rate: # mutation\n",
    "            a[i] = alphabets[ np.random.randint(0, len(alphabets)) ]\n",
    "    return ''.join(a)"
   ]
  },
  {
   "cell_type": "code",
   "execution_count": 87,
   "metadata": {},
   "outputs": [],
   "source": [
    "from tqdm import tqdm\n",
    "def evolve(population, target, n=100, generations=1, mut_rate=0.01):\n",
    "    avg_fitnesses = []\n",
    "    for generation in tqdm(range(generations)):\n",
    "        fitness = np.array([similar(individual, target) for individual in population])\n",
    "        avg_fitness = np.mean(fitness)\n",
    "        avg_fitnesses.append(avg_fitness)\n",
    "        prob = fitness * (1. / (avg_fitness * fitness.size))\n",
    "\n",
    "        new_population = []\n",
    "        while len(new_population) < n:\n",
    "            parents = np.random.choice(population, size=2, p = prob)\n",
    "            child1, child2 = recombine(parents[0] , parents[1])\n",
    "            child1 = mutate(child1, mut_rate)\n",
    "            child2 = mutate(child2, mut_rate)\n",
    "            new_population.append(child1)\n",
    "            new_population.append(child2)\n",
    "\n",
    "        population = new_population\n",
    "\n",
    "    return population , avg_fitnesses"
   ]
  },
  {
   "cell_type": "code",
   "execution_count": 90,
   "metadata": {},
   "outputs": [
    {
     "name": "stderr",
     "output_type": "stream",
     "text": [
      "100%|██████████| 600/600 [03:00<00:00,  3.33it/s]\n"
     ]
    }
   ],
   "source": [
    "np.random.seed(0)\n",
    "new_population, avg_fitnesses = evolve(population,target,n=2000,generations=600,mut_rate=0.00001)"
   ]
  },
  {
   "cell_type": "code",
   "execution_count": 101,
   "metadata": {},
   "outputs": [
    {
     "data": {
      "text/plain": [
       "[<matplotlib.lines.Line2D at 0x1c692177b20>]"
      ]
     },
     "execution_count": 101,
     "metadata": {},
     "output_type": "execute_result"
    },
    {
     "data": {
      "image/png": "[encoded data removed]",
      "text/plain": [
       "<Figure size 432x288 with 1 Axes>"
      ]
     },
     "metadata": {
      "needs_background": "light"
     },
     "output_type": "display_data"
    }
   ],
   "source": [
    "plt.plot(avg_fitnesses)"
   ]
  },
  {
   "cell_type": "code",
   "execution_count": 99,
   "metadata": {},
   "outputs": [],
   "source": [
    "sorted_new_population = sorted(new_population, key=lambda x: similar(x,target))[::-1]"
   ]
  },
  {
   "cell_type": "code",
   "execution_count": 100,
   "metadata": {},
   "outputs": [
    {
     "name": "stdout",
     "output_type": "stream",
     "text": [
      "['Hell AWoldd!', 'Helo VWold!!', 'Hell VWold!!', 'Hell VWold!!', 'Hell HWoldd!']\n",
      "Max similarity = 0.8333333333333334\n"
     ]
    }
   ],
   "source": [
    "print(sorted_new_population[:5])\n",
    "print(f'Max similarity = {similar(target, sorted_new_population[0])}')"
   ]
  }
 ],
 "metadata": {
  "interpreter": {
   "hash": "1403262caf5c96c562d23c2ec1d0e9409dfef636549d4d9dd4887bed656bec38"
  },
  "kernelspec": {
   "display_name": "Python 3.8.4 64-bit (system)",
   "language": "python",
   "name": "python3"
  },
  "language_info": {
   "codemirror_mode": {
    "name": "ipython",
    "version": 3
   },
   "file_extension": ".py",
   "mimetype": "text/x-python",
   "name": "python",
   "nbconvert_exporter": "python",
   "pygments_lexer": "ipython3",
   "version": "3.8.4"
  },
  "orig_nbformat": 4
 },
 "nbformat": 4,
 "nbformat_minor": 2
}
