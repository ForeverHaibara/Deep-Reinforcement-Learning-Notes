{
 "cells": [
  {
   "cell_type": "markdown",
   "metadata": {},
   "source": [
    "Use **pip install gym** to install the required package. See further information on \n",
    "\n",
    "https://gym.openai.com/docs/\n",
    "\n",
    "Use **pip install pyglet** to install pyglet. This package draws (renders) the game on the screen."
   ]
  },
  {
   "cell_type": "code",
   "execution_count": 2,
   "metadata": {},
   "outputs": [],
   "source": [
    "import gym"
   ]
  },
  {
   "cell_type": "code",
   "execution_count": 3,
   "metadata": {},
   "outputs": [
    {
     "data": {
      "text/plain": [
       "array([ 0.0412548 , -0.04389008, -0.02926047, -0.02530798], dtype=float32)"
      ]
     },
     "execution_count": 3,
     "metadata": {},
     "output_type": "execute_result"
    }
   ],
   "source": [
    "env = gym.make('CartPole-v0')"
   ]
  },
  {
   "cell_type": "code",
   "execution_count": 18,
   "metadata": {},
   "outputs": [],
   "source": [
    "# see how the environment works\n",
    "from time import sleep\n",
    "\n",
    "# always call reset at the start of game\n",
    "env.reset()\n",
    "\n",
    "for _ in range(1000):\n",
    "    # draw the game\n",
    "    env.render()\n",
    "\n",
    "    # randomly choose an action, action = 0 or 1 in this game\n",
    "    action = env.action_space.sample()\n",
    "\n",
    "    # take this action\n",
    "    state, reward, done, info = env.step(action)\n",
    "\n",
    "    # if done == True, then the game ends\n",
    "    if done == True:\n",
    "        break\n",
    "    sleep(0.01)\n",
    "sleep(1)\n",
    "\n",
    "# close the window\n",
    "env.close()"
   ]
  },
  {
   "cell_type": "markdown",
   "metadata": {},
   "source": [
    "Our aim of the game: the agent plays more than 200 actions before the game ends (the longer the better)."
   ]
  },
  {
   "cell_type": "code",
   "execution_count": 74,
   "metadata": {},
   "outputs": [],
   "source": [
    "import numpy as np\n",
    "import torch\n",
    "\n",
    "model = torch.nn.Sequential(\n",
    "    torch.nn.Linear(4, 50),\n",
    "    torch.nn.LeakyReLU(),\n",
    "    torch.nn.Linear(50, 30),\n",
    "    torch.nn.LeakyReLU(),\n",
    "    torch.nn.Linear(30, 2),\n",
    "    torch.nn.Softmax(dim=-1)\n",
    ")\n",
    "\n",
    "def loss_f(a, b):\n",
    "    return - torch.sum(b * torch.log(a))\n",
    "\n",
    "optimizer = torch.optim.Adam(model.parameters())"
   ]
  },
  {
   "cell_type": "code",
   "execution_count": 75,
   "metadata": {},
   "outputs": [
    {
     "name": "stderr",
     "output_type": "stream",
     "text": [
      "100%|██████████| 2000/2000 [01:35<00:00, 21.00it/s]\n"
     ]
    }
   ],
   "source": [
    "from tqdm import tqdm \n",
    "max_moves = 200\n",
    "gamma = 0.99\n",
    "epochs = 2000\n",
    "score = []\n",
    "for epoch in tqdm(range(epochs)):\n",
    "    # restart a new game and obtain the current state\n",
    "    state2 = env.reset()\n",
    "    gameover = False\n",
    "    replay = []\n",
    "\n",
    "    for t in range(max_moves):\n",
    "        state = torch.Tensor(state2)\n",
    "        prob = model( state )\n",
    "        action = np.random.choice((0,1), p = prob.detach().numpy())\n",
    "        state2, _, gameover, info = env.step(action)\n",
    "        replay.append((state, prob, action))\n",
    "        if gameover:\n",
    "            break \n",
    "    \n",
    "    length = len(replay)\n",
    "    score.append(length) # the longer the better\n",
    "\n",
    "    state_batch   = torch.cat([s for (s,p,a) in replay]).reshape((length,4))\n",
    "    predict_batch = torch.cat([p for (s,p,a) in replay]).reshape((length,2))\n",
    "    action_batch  = torch.Tensor([a for (s,p,a) in replay])\n",
    "\n",
    "    # the corresponding reward is decreasing (nearer to the end receives fewer rewards)\n",
    "    reward_batch  = torch.arange(length,0,-1)\n",
    "\n",
    "    reward_batch = torch.pow(gamma, torch.arange(length)) * reward_batch\n",
    "    reward_batch *= 1. / torch.max(reward_batch)\n",
    "\n",
    "    predict = predict_batch.gather(dim=1, index=action_batch.long().view(-1,1)).squeeze()\n",
    "\n",
    "    loss = loss_f(predict, reward_batch)\n",
    "    optimizer.zero_grad()\n",
    "    loss.backward()\n",
    "    optimizer.step()"
   ]
  },
  {
   "cell_type": "markdown",
   "metadata": {},
   "source": [
    "Note : the training speed is slowing down because the agent plays longer time after training!\n",
    "\n",
    "We shall see it is often the case that the agent can play up to 200 steps after training."
   ]
  },
  {
   "cell_type": "code",
   "execution_count": 78,
   "metadata": {},
   "outputs": [
    {
     "name": "stdout",
     "output_type": "stream",
     "text": [
      "[200, 200, 200, 200, 200, 200, 200, 200, 200, 200, 200, 200, 200, 200, 200, 196, 200, 200, 200, 200]\n"
     ]
    }
   ],
   "source": [
    "print(score[-20:])"
   ]
  },
  {
   "cell_type": "code",
   "execution_count": 81,
   "metadata": {},
   "outputs": [
    {
     "data": {
      "text/plain": [
       "<matplotlib.collections.PathCollection at 0x2d640e737c0>"
      ]
     },
     "execution_count": 81,
     "metadata": {},
     "output_type": "execute_result"
    },
    {
     "data": {
      "image/png": "[encoded data removed]",
      "text/plain": [
       "<Figure size 1080x720 with 1 Axes>"
      ]
     },
     "metadata": {
      "needs_background": "light"
     },
     "output_type": "display_data"
    }
   ],
   "source": [
    "import matplotlib.pyplot as plt\n",
    "plt.figure(figsize=(15,10))\n",
    "plt.scatter(np.arange(len(score)), score, s=2)"
   ]
  }
 ],
 "metadata": {
  "interpreter": {
   "hash": "1403262caf5c96c562d23c2ec1d0e9409dfef636549d4d9dd4887bed656bec38"
  },
  "kernelspec": {
   "display_name": "Python 3.8.4 64-bit (system)",
   "language": "python",
   "name": "python3"
  },
  "language_info": {
   "codemirror_mode": {
    "name": "ipython",
    "version": 3
   },
   "file_extension": ".py",
   "mimetype": "text/x-python",
   "name": "python",
   "nbconvert_exporter": "python",
   "pygments_lexer": "ipython3",
   "version": "3.8.4"
  },
  "orig_nbformat": 4
 },
 "nbformat": 4,
 "nbformat_minor": 2
}
